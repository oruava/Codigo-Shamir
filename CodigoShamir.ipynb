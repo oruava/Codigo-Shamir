{
  "nbformat": 4,
  "nbformat_minor": 0,
  "metadata": {
    "colab": {
      "provenance": []
    },
    "kernelspec": {
      "name": "python3",
      "display_name": "Python 3"
    },
    "language_info": {
      "name": "python"
    }
  },
  "cells": [
    {
      "cell_type": "code",
      "execution_count": 1,
      "metadata": {
        "colab": {
          "base_uri": "https://localhost:8080/"
        },
        "id": "kD0_MGIsKmaN",
        "outputId": "387cd6a2-1eee-4073-cfe1-35466e9126da"
      },
      "outputs": [
        {
          "output_type": "stream",
          "name": "stdout",
          "text": [
            "Partes generadas: [(1, 1), (2, 3), (3, 1), (4, 12), (5, 2)]\n",
            "Partes seleccionadas: [(2, 3), (3, 1), (4, 12)]\n",
            "Secreto reconstruido: 12\n"
          ]
        }
      ],
      "source": [
        "import random\n",
        "from functools import reduce\n",
        "\n",
        "def inverso_modular(a, p):\n",
        "    def egcd(a, b):\n",
        "        if a == 0:\n",
        "            return (b, 0, 1)\n",
        "        g, y, x = egcd(b % a, a)\n",
        "        return (g, x - (b // a) * y, y)\n",
        "\n",
        "    g, x, y = egcd(a, p)\n",
        "    if g != 1:\n",
        "        raise ValueError('No existe inverso modular')\n",
        "    return x % p\n",
        "\n",
        "def evaluar_polinomio(coeficientes, x, p):\n",
        "    resultado = 0\n",
        "    for coeficiente in reversed(coeficientes):\n",
        "        resultado = (resultado * x + coeficiente) % p\n",
        "    return resultado\n",
        "\n",
        "def generar_polinomio(secreto, t, p):\n",
        "    coeficientes = [secreto] + [random.randint(0, p - 1) for _ in range(t - 1)]\n",
        "    return coeficientes\n",
        "\n",
        "def dividir_secreto(secreto, n, t, p):\n",
        "    coeficientes = generar_polinomio(secreto, t, p)\n",
        "    partes = [(i, evaluar_polinomio(coeficientes, i, p)) for i in range(1, n + 1)]\n",
        "    return partes\n",
        "\n",
        "def interpolacion_lagrange(x, puntos, p):\n",
        "    def base(j):\n",
        "        xj, yj = puntos[j]\n",
        "        numerador = 1\n",
        "        denominador = 1\n",
        "        for m, (xm, _) in enumerate(puntos):\n",
        "            if m != j:\n",
        "                numerador = (numerador * (x - xm)) % p\n",
        "                denominador = (denominador * (xj - xm)) % p\n",
        "        return (yj * numerador * inverso_modular(denominador, p)) % p\n",
        "\n",
        "    return sum(base(j) for j in range(len(puntos))) % p\n",
        "\n",
        "def reconstruir_secreto(partes, p):\n",
        "    secreto = interpolacion_lagrange(0, partes, p)\n",
        "    return secreto\n",
        "\n",
        "\n",
        "secreto = 12  # El secreto a compartir\n",
        "n = 5           # Número total de partes\n",
        "t = 3           # Umbral mínimo para reconstruir el secreto\n",
        "p = 17        # Número primo mayor que el secreto (p debe ser mayor al secreto)\n",
        "\n",
        "\n",
        "\n",
        "\n",
        "partes = dividir_secreto(secreto, n, t, p)\n",
        "print(f\"Partes generadas: {partes}\")\n",
        "\n",
        "partes_seleccionadas = random.sample(partes, t)\n",
        "print(f\"Partes seleccionadas: {partes_seleccionadas}\")\n",
        "\n",
        "secreto_reconstruido = reconstruir_secreto(partes_seleccionadas, p)\n",
        "print(f\"Secreto reconstruido: {secreto_reconstruido}\")\n"
      ]
    }
  ]
}